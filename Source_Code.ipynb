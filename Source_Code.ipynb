{
 "cells": [
  {
   "cell_type": "code",
   "execution_count": 7,
   "id": "ce318bff",
   "metadata": {},
   "outputs": [],
   "source": [
    "#Importing the necessary libraries.\n",
    "import pandas\n",
    "import numpy\n",
    "import matplotlib.pyplot as plt\n",
    "from sklearn.linear_model import LogisticRegression\n",
    "from sklearn.metrics import accuracy_score\n",
    "from sklearn.preprocessing import StandardScaler\n",
    "%matplotlib inline"
   ]
  },
  {
   "cell_type": "code",
   "execution_count": null,
   "id": "e37e4e49",
   "metadata": {},
   "outputs": [],
   "source": [
    "#Getting the Data\n",
    "train_data_frame = pandas.read_csv(\"1676558209_8416622_cleveland-train.csv\")\n",
    "matrix_x = (train_data_frame[['age','sex','cp','trestbps','chol','fbs','restecg','thalach','exang','oldpeak','slope','ca','thal']])\n",
    "vector_y = (train_data_frame['heartdisease::category|-1|1'])\n",
    "vector_y[vector_y == -1] = 0\n",
    "\n",
    "#Adding the intercepts\n",
    "buff = []\n",
    "for i in range(matrix_x.shape[0]):\n",
    "    buff.append(1)\n",
    "matrix_x.insert(0,'intercepts',buff)"
   ]
  },
  {
   "cell_type": "code",
   "execution_count": 9,
   "id": "41500966",
   "metadata": {},
   "outputs": [],
   "source": [
    "#Hypothesis for Logistic Regression\n",
    "def hypothesis(matrix_x, weights):\n",
    "    Z = numpy.matmul(matrix_x, weights)\n",
    "    return sigmoid(Z)\n",
    "\n",
    "#Calculating the probability\n",
    "def sigmoid(Z):\n",
    "    return (1.0 / (1 + numpy.exp(-Z)))\n",
    "\n",
    "#Calculating the cost/cross-entropy error\n",
    "def cost_function(vector_y, vector_y_cap):\n",
    "    return - numpy.sum(numpy.dot(vector_y.T,numpy.log(vector_y_cap + 1e-10)) + numpy.dot((1 - vector_y).T,numpy.log(1 - vector_y_cap + 1e-10))) / (len(vector_y))\n",
    "\n",
    "#Updating the weights of the features at every step\n",
    "def updating_the_weights(weights, vector_y , vector_y_cap, matrix_x, learning_rate):\n",
    "    dw = numpy.dot((vector_y_cap - vector_y), matrix_x) / len(vector_y)\n",
    "    weights_updated = weights - learning_rate * dw\n",
    "    return weights_updated, dw\n",
    "    \n",
    "#Prediciting the class based on the Data\n",
    "def prediction_function(matrix_x,weights):\n",
    "    predicted_vector_y = hypothesis(matrix_x, weights)\n",
    "    predicted_vector_y_class = []\n",
    "    for i in predicted_vector_y:\n",
    "        if i >= 0.5:\n",
    "            predicted_vector_y_class.append(1)\n",
    "        else:\n",
    "            predicted_vector_y_class.append(-1)\n",
    "    return predicted_vector_y_class\n"
   ]
  },
  {
   "cell_type": "code",
   "execution_count": 10,
   "id": "d8e752d5",
   "metadata": {},
   "outputs": [
    {
     "name": "stdout",
     "output_type": "stream",
     "text": [
      "Cross-Entropy Error:  0.6098175136729922\n",
      "CPU times: user 17.1 s, sys: 120 ms, total: 17.2 s\n",
      "Wall time: 17.4 s\n"
     ]
    }
   ],
   "source": [
    "%%time\n",
    "\n",
    "#Gradient Descent\n",
    "\n",
    "iterations = 10000 #Experiment with 100k and 1M iterations\n",
    "learning_rate = 10e-5\n",
    "\n",
    "#Storing the entropy at each iteration for plotting the convergence graph\n",
    "costs_at_all_iterations = []\n",
    "\n",
    "#Initializing the weights of all features to 1\n",
    "weights = []\n",
    "for i in range(matrix_x.shape[1]):\n",
    "    weights.append(1)\n",
    "\n",
    "#Calculating the weights for the features\n",
    "for i in range(iterations):\n",
    "    vector_y_cap = hypothesis(matrix_x,weights)\n",
    "    present_cost = cost_function(vector_y, vector_y_cap)\n",
    "    old_weight = weights\n",
    "    weights, dw = updating_the_weights(old_weight, vector_y, vector_y_cap, matrix_x, learning_rate)\n",
    "    if all(dw < 10e-3): #We terminate when the gradient is less than 10e-3\n",
    "        exit_point = i\n",
    "        break\n",
    "    costs_at_all_iterations.append(present_cost)\n",
    "    \n",
    "print(\"Cross-Entropy Error: \", present_cost)"
   ]
  },
  {
   "cell_type": "code",
   "execution_count": 11,
   "id": "bc507b8c",
   "metadata": {},
   "outputs": [
    {
     "data": {
      "text/plain": [
       "Text(0.5, 1.0, 'Iterations vs Cost Function')"
      ]
     },
     "execution_count": 11,
     "metadata": {},
     "output_type": "execute_result"
    },
    {
     "data": {
      "image/png": "[encoded data removed]",
      "text/plain": [
       "<Figure size 640x480 with 1 Axes>"
      ]
     },
     "metadata": {},
     "output_type": "display_data"
    }
   ],
   "source": [
    "#Plotting for check convergence graph before Scaling\n",
    "\n",
    "number_of_loops = range(0,iterations) #Use exit_point instead of iterations when iterations = 1M\n",
    "plt.plot(number_of_loops,costs_at_all_iterations,'r-')\n",
    "plt.xlabel('Number of iterations')\n",
    "plt.ylabel('Cost')\n",
    "plt.title('Iterations vs Cost Function')"
   ]
  },
  {
   "cell_type": "code",
   "execution_count": 12,
   "id": "a8c9e319",
   "metadata": {},
   "outputs": [
    {
     "name": "stdout",
     "output_type": "stream",
     "text": [
      "Accuracy =  0.7894736842105263\n",
      "Classification error =  0.21052631578947367\n",
      "CPU times: user 9.48 ms, sys: 3.35 ms, total: 12.8 ms\n",
      "Wall time: 11.9 ms\n"
     ]
    }
   ],
   "source": [
    "%%time\n",
    "\n",
    "#Predicting the values using the classifier\n",
    "predicted_values = prediction_function(matrix_x,weights)\n",
    "\n",
    "##Getting the accuracy of the model\n",
    "train_data_frame = pandas.read_csv(\"1676558209_8416622_cleveland-train.csv\")\n",
    "actual_predictions = (train_data_frame['heartdisease::category|-1|1'])\n",
    "accuracy = accuracy_score(actual_predictions, predicted_values)\n",
    "print(\"Accuracy = \", accuracy)\n",
    "print(\"Classification error = \", 1-accuracy)"
   ]
  },
  {
   "cell_type": "code",
   "execution_count": 13,
   "id": "80d9661a",
   "metadata": {},
   "outputs": [
    {
     "name": "stdout",
     "output_type": "stream",
     "text": [
      "Accuracy of the model using sklearn (logistic regression) 0.8223684210526315\n",
      "CPU times: user 259 ms, sys: 13.1 ms, total: 272 ms\n",
      "Wall time: 292 ms\n"
     ]
    }
   ],
   "source": [
    "%%time\n",
    "\n",
    "#Finding the accuracy when tranined using the logistic regression from sklearn\n",
    "logistic_regression = LogisticRegression(max_iter = 10000)\n",
    "logistic_regression_model = logistic_regression.fit(matrix_x, actual_predictions)\n",
    "print(\"Accuracy of the model using sklearn (logistic regression)\",accuracy_score(actual_predictions,logistic_regression.predict(matrix_x)))"
   ]
  },
  {
   "cell_type": "code",
   "execution_count": 14,
   "id": "03f90f5f",
   "metadata": {},
   "outputs": [
    {
     "name": "stdout",
     "output_type": "stream",
     "text": [
      "CPU times: user 9.75 ms, sys: 859 µs, total: 10.6 ms\n",
      "Wall time: 16.5 ms\n"
     ]
    }
   ],
   "source": [
    "%%time\n",
    "\n",
    "#Testing the model on test data file\n",
    "test_data_frame = pandas.read_csv(\"1676558209_8421676_cleveland-test.csv\")\n",
    "matrix_x_test = (test_data_frame[['age','sex','cp','trestbps','chol','fbs','restecg','thalach','exang','oldpeak','slope','ca','thal']])\n",
    "buff = []\n",
    "for i in range(matrix_x_test.shape[0]):\n",
    "    buff.append(1)\n",
    "matrix_x_test.insert(0,'intercepts',buff)\n",
    "predicted_class_test = prediction_function(matrix_x_test, weights)\n",
    "\n",
    "#Generating the .csv with the classifications for each row in the test file\n",
    "file = open(\"results_10k.csv\",\"w\",encoding='utf-8')\n",
    "for i in predicted_class_test:\n",
    "    file.write(str(i)+'\\n')\n"
   ]
  },
  {
   "cell_type": "code",
   "execution_count": null,
   "id": "f42f2d8a",
   "metadata": {},
   "outputs": [],
   "source": [
    "#Scaling the train data\n",
    "\n",
    "train_data_frame_for_scaling = pandas.read_csv(\"1676558209_8416622_cleveland-train.csv\")\n",
    "matrix_x_scaling = (train_data_frame_for_scaling[['age','sex','cp','trestbps','chol','fbs','restecg','thalach','exang','oldpeak','slope','ca','thal']])\n",
    "vector_y_scaling = (train_data_frame_for_scaling['heartdisease::category|-1|1'])\n",
    "vector_y_scaling[vector_y_scaling == -1] = 0\n",
    "\n",
    "#Adding the intercepts\n",
    "buff = []\n",
    "for i in range(matrix_x_scaling.shape[0]):\n",
    "    buff.append(1)\n",
    "matrix_x_scaling.insert(0,'intercepts',buff)\n",
    "\n",
    "#Scaling using StandardScaler\n",
    "scalar = StandardScaler()\n",
    "matrix_x_scaled = scalar.fit_transform(matrix_x_scaling)"
   ]
  },
  {
   "cell_type": "code",
   "execution_count": 16,
   "id": "14a580e1",
   "metadata": {},
   "outputs": [
    {
     "name": "stdout",
     "output_type": "stream",
     "text": [
      "Cross-Entropy Error:  0.41471841262244863\n",
      "CPU times: user 6min 29s, sys: 2.17 s, total: 6min 31s\n",
      "Wall time: 6min 37s\n"
     ]
    }
   ],
   "source": [
    "%%time\n",
    "\n",
    "#Gradient Descent after scaling\n",
    "\n",
    "iterations_scaling = 1000000\n",
    "learning_rate_scaling = 10e-5 #Experiment with different learning rates such as 10e-3,10e-4\n",
    "\n",
    "#Storing the entropy at each iteration for plotting the convergence graph\n",
    "costs_at_all_iterations_scaling = []\n",
    "\n",
    "#Initializing the weights of features to 1\n",
    "weights_scaling = []\n",
    "for i in range(matrix_x_scaled.shape[1]):\n",
    "    weights_scaling.append(1)\n",
    "\n",
    "#Calculating the weights for the features\n",
    "for i in range (iterations_scaling):\n",
    "    vector_y_cap_scaling = hypothesis(matrix_x_scaled,weights_scaling)\n",
    "    present_cost_scaling = cost_function(vector_y_scaling, vector_y_cap_scaling)\n",
    "    old_weights_scaling = weights_scaling\n",
    "    weights_scaling, dw_scaling = updating_the_weights(old_weights_scaling, vector_y_scaling, vector_y_cap_scaling, matrix_x_scaled, learning_rate_scaling)\n",
    "    if all(dw_scaling < 10e-6):\n",
    "        exit_point_scaling = i\n",
    "        break\n",
    "    costs_at_all_iterations_scaling.append(present_cost_scaling)\n",
    "    \n",
    "print(\"Cross-Entropy Error: \", present_cost_scaling)"
   ]
  },
  {
   "cell_type": "code",
   "execution_count": 17,
   "id": "e6c59890",
   "metadata": {},
   "outputs": [
    {
     "data": {
      "text/plain": [
       "Text(0.5, 1.0, 'Iterations vs Cost Function')"
      ]
     },
     "execution_count": 17,
     "metadata": {},
     "output_type": "execute_result"
    },
    {
     "data": {
      "image/png": "[encoded data removed]",
      "text/plain": [
       "<Figure size 640x480 with 1 Axes>"
      ]
     },
     "metadata": {},
     "output_type": "display_data"
    }
   ],
   "source": [
    "#Plotting for check convergence graph after Scaling\n",
    "\n",
    "number_of_loops_scaling = range(0,iterations_scaling) #Use exit_point_scaling when learning_rate_scaling = 10e-4, 10e-3\n",
    "plt.plot(number_of_loops_scaling, costs_at_all_iterations_scaling, 'r-')\n",
    "plt.xlabel('Number of iterations')\n",
    "plt.ylabel('Cost')\n",
    "plt.title('Iterations vs Cost Function')"
   ]
  },
  {
   "cell_type": "code",
   "execution_count": 18,
   "id": "44251fa5",
   "metadata": {},
   "outputs": [
    {
     "name": "stdout",
     "output_type": "stream",
     "text": [
      "Accuracy =  0.8092105263157895\n",
      "Classification error =  0.1907894736842105\n"
     ]
    }
   ],
   "source": [
    "#Predicting values for classification after scaling the training data\n",
    "predicted_values_scaling = prediction_function(matrix_x_scaled,weights_scaling)\n",
    "\n",
    "#Getting the accuracy of the model after scaling\n",
    "train_data_frame = pandas.read_csv(\"1676558209_8416622_cleveland-train.csv\")\n",
    "actual_predictions = (train_data_frame['heartdisease::category|-1|1'])\n",
    "accuracy = accuracy_score(actual_predictions, predicted_values_scaling)\n",
    "print(\"Accuracy = \", accuracy)\n",
    "print(\"Classification error = \", 1-accuracy)"
   ]
  },
  {
   "cell_type": "code",
   "execution_count": null,
   "id": "3781a945",
   "metadata": {},
   "outputs": [],
   "source": []
  }
 ],
 "metadata": {
  "kernelspec": {
   "display_name": "Python 3",
   "language": "python",
   "name": "python3"
  },
  "language_info": {
   "codemirror_mode": {
    "name": "ipython",
    "version": 3
   },
   "file_extension": ".py",
   "mimetype": "text/x-python",
   "name": "python",
   "nbconvert_exporter": "python",
   "pygments_lexer": "ipython3",
   "version": "3.9.4"
  }
 },
 "nbformat": 4,
 "nbformat_minor": 5
}
